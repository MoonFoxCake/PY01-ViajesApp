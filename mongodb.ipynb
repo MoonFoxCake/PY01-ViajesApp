{
 "cells": [
  {
   "cell_type": "code",
   "execution_count": null,
   "metadata": {},
   "outputs": [],
   "source": [
    "from pymongo import MongoClient\n",
    "from bson import ObjectId\n",
    "\n",
    "client = MongoClient('mongodb://localhost:27017/', username='root', password='root')\n",
    "db = client['ViajesDB']\n"
   ]
  },
  {
   "cell_type": "code",
   "execution_count": null,
   "metadata": {},
   "outputs": [],
   "source": [
    "db.Viajes.insert_one(\n",
    "    \n",
    "  {\n",
    "    \"_id\": ObjectId(\"NoSeQuePonerAqui\"),\n",
    "    \"Pais\": \"Estados Unidos\",\n",
    "    \"Destino\": \"Hawaii\",\n",
    "    \"Link al destino\": \"https://www.gohawaii.com/islands/oahu/regions/honolulu\",\n",
    "    \"cantidad de likes\": 1,\n",
    "    \"Descripcion\": \"Sitio turistico en estados unidos ideal para unas vacaciones tropicales\",\n",
    "    \"Comentarios\": [\n",
    "      {\"Nombre\": \"Elijah Wood\", \"Comentario\": \"Hablan ingles y tienen playas hermosas\"},\n",
    "      {\"Nombre\": \"Ian McKellen\", \"Comentario\": \"Es un destino maravilloso\"}\n",
    "    ],\n",
    "    \"rating\": 9.3\n",
    "  })"
   ]
  }
 ],
 "metadata": {
  "language_info": {
   "name": "python"
  }
 },
 "nbformat": 4,
 "nbformat_minor": 2
}
